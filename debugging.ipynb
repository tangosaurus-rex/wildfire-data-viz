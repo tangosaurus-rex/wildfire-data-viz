{
 "cells": [
  {
   "cell_type": "code",
   "execution_count": 1,
   "id": "5ec31930-c5f3-4d2d-b864-a7ce364035b4",
   "metadata": {},
   "outputs": [],
   "source": [
    "import sqlite3\n",
    "import geojson"
   ]
  },
  {
   "cell_type": "code",
   "execution_count": 2,
   "id": "1aa8c8db-905a-4be1-a221-5aaee373ebe7",
   "metadata": {},
   "outputs": [],
   "source": [
    "def dict_factory(cursor, row):\n",
    "    d = {}\n",
    "    for idx,col in enumerate(cursor.description):\n",
    "        d[col[0]] = row[idx]\n",
    "    return d\n",
    "\n",
    "def get_wildfires_by_bb(south, west, north, east):\n",
    "    fires = None\n",
    "    with sqlite3.connect('data/nbac.sqlite') as conn:\n",
    "        conn.enable_load_extension(True)\n",
    "        conn.execute('SELECT load_extension(\"mod_spatialite\");')\n",
    "        conn.row_factory = dict_factory\n",
    "        q = f\"\"\"\n",
    "            select\n",
    "                year\n",
    "                , nfireid\n",
    "                , basrc\n",
    "                , firemaps\n",
    "                , firemapm\n",
    "                , firecaus\n",
    "                , burnclas\n",
    "                , sdate\n",
    "                , edate\n",
    "                , afsdate\n",
    "                , afedate\n",
    "                , capdate\n",
    "                , poly_ha\n",
    "                , adj_ha\n",
    "                , adj_flag\n",
    "                , agency\n",
    "                , bt_gid\n",
    "                , version\n",
    "                , comments\n",
    "                , basrc_1\n",
    "                , new_flg\n",
    "                , asgeojson(GEOMETRY) as geom\n",
    "                        from nbac\n",
    "                        where ST_Intersects(\n",
    "                                polygonfromtext(\n",
    "                                    'POLYGON((\n",
    "                            {west} {south},\n",
    "                            {west} {north},\n",
    "                            {east} {north},\n",
    "                            {east} {south},\n",
    "                            {west} {south}\n",
    "                            ))')\n",
    "                , GEOMETRY)\n",
    "                limit 500\n",
    "                \"\"\"\n",
    "        fires = conn.execute(q).fetchall()\n",
    "\n",
    "        features = list()\n",
    "\n",
    "        for row in fires:\n",
    "            geom = geojson.loads(row['geom'])\n",
    "            row.pop('geom')\n",
    "            feature = geojson.Feature(geometry=geom, properties=row)\n",
    "            features.append(feature)\n",
    "\n",
    "        fireCollection = geojson.FeatureCollection(features)\n",
    "\n",
    "        #fireCollection['crs'] = { \"type\": \"name\", \"properties\": { \"name\": \"urn:ogc:def:crs:OGC:1.3:CRS84\" } }\n",
    "\n",
    "        return fireCollection"
   ]
  },
  {
   "cell_type": "code",
   "execution_count": 12,
   "id": "99f8f10b-7f67-4b3e-8af5-e94f63f7e918",
   "metadata": {},
   "outputs": [],
   "source": [
    "east = -114.46294784545898\n",
    "north = 55.17151537567731\n",
    "south = 55.09300655867381\n",
    "west = -114.60027694702148"
   ]
  },
  {
   "cell_type": "code",
   "execution_count": 13,
   "id": "9bedde52-db26-415d-b946-76beda9f1ec1",
   "metadata": {},
   "outputs": [],
   "source": [
    "west = -114.95171070098877\n",
    "north = 55.13349468079407\n",
    "east = -114.91737842559814\n",
    "south = 55.11386325016275"
   ]
  },
  {
   "cell_type": "code",
   "execution_count": 14,
   "id": "2d41325b-10d0-48bf-a76e-674d265d361c",
   "metadata": {},
   "outputs": [],
   "source": [
    "\n",
    "west = -120.39764404296875\n",
    "north = 55.88095201504089\n",
    "east = -100.29901123046875\n",
    "south = 49.243964309850995\n"
   ]
  },
  {
   "cell_type": "code",
   "execution_count": 3,
   "id": "59d8cb7d-2bd0-43a9-be67-1c5c59174d36",
   "metadata": {},
   "outputs": [],
   "source": [
    "west = -115.68878173828125\n",
    "north = 55.66984035430873\n",
    "east = -113.49151611328125\n",
    "south = 54.41093863702367"
   ]
  },
  {
   "cell_type": "code",
   "execution_count": 4,
   "id": "6e4449a7-8778-4931-b137-6aff878c42b4",
   "metadata": {
    "tags": []
   },
   "outputs": [
    {
     "name": "stdout",
     "output_type": "stream",
     "text": [
      "\n",
      "select \n",
      "    year\n",
      "    , nfireid\n",
      "    , basrc\n",
      "    , firemaps\n",
      "    , firemapm\n",
      "    , firecaus\n",
      "    , burnclas\n",
      "    , sdate\n",
      "    , edate\n",
      "    , afsdate\n",
      "    , afedate\n",
      "    , capdate\n",
      "    , poly_ha\n",
      "    , adj_ha\n",
      "    , adj_flag\n",
      "    , agency\n",
      "    , bt_gid\n",
      "    , version\n",
      "    , comments\n",
      "    , basrc_1\n",
      "    , new_flg\n",
      "    , centroid_x\n",
      "    , centroid_y\n",
      "    , asgeojson(GEOMETRY) as geom\n",
      "    , Cluster as cluster\n",
      "            from nbac\n",
      "            where ST_Intersects(\n",
      "                    polygonfromtext(\n",
      "                        'POLYGON((\n",
      "            -115.68878173828125 54.41093863702367,\n",
      "            -115.68878173828125 55.66984035430873,\n",
      "            -113.49151611328125 55.66984035430873,\n",
      "            -113.49151611328125 54.41093863702367,\n",
      "            -115.68878173828125 54.41093863702367\n",
      "            ))'\n",
      "        , 4326)\n",
      ", GEOMETRY)\n",
      "limit 2\n",
      "                \n"
     ]
    }
   ],
   "source": [
    "q = f\"\"\"\n",
    "select \n",
    "    year\n",
    "    , nfireid\n",
    "    , basrc\n",
    "    , firemaps\n",
    "    , firemapm\n",
    "    , firecaus\n",
    "    , burnclas\n",
    "    , sdate\n",
    "    , edate\n",
    "    , afsdate\n",
    "    , afedate\n",
    "    , capdate\n",
    "    , poly_ha\n",
    "    , adj_ha\n",
    "    , adj_flag\n",
    "    , agency\n",
    "    , bt_gid\n",
    "    , version\n",
    "    , comments\n",
    "    , basrc_1\n",
    "    , new_flg\n",
    "    , centroid_x\n",
    "    , centroid_y\n",
    "    , asgeojson(GEOMETRY) as geom\n",
    "    , Cluster as cluster\n",
    "            from nbac\n",
    "            where ST_Intersects(\n",
    "                    polygonfromtext(\n",
    "                        'POLYGON((\n",
    "            {west} {south},\n",
    "            {west} {north},\n",
    "            {east} {north},\n",
    "            {east} {south},\n",
    "            {west} {south}\n",
    "            ))'\n",
    "        , 4326)\n",
    ", GEOMETRY)\n",
    "limit 2\n",
    "                \"\"\"\n",
    "print(q)"
   ]
  },
  {
   "cell_type": "code",
   "execution_count": 5,
   "id": "80c38d7d-6329-4a26-8d8f-b257ac858c62",
   "metadata": {},
   "outputs": [],
   "source": [
    "f = get_wildfires_by_bb(south, west, north, east)"
   ]
  },
  {
   "cell_type": "code",
   "execution_count": 6,
   "id": "288b4889-8a4a-45f1-958c-9f4efaabe18f",
   "metadata": {},
   "outputs": [
    {
     "data": {
      "text/plain": [
       "228"
      ]
     },
     "execution_count": 6,
     "metadata": {},
     "output_type": "execute_result"
    }
   ],
   "source": [
    "len(f['features'])"
   ]
  },
  {
   "cell_type": "code",
   "execution_count": 17,
   "id": "6ab2f000-ae8f-4edc-ad04-65059503e499",
   "metadata": {},
   "outputs": [
    {
     "data": {
      "text/plain": [
       "{'type': 'name', 'properties': {'name': 'urn:ogc:def:crs:OGC:1.3:CRS84'}}"
      ]
     },
     "execution_count": 17,
     "metadata": {},
     "output_type": "execute_result"
    }
   ],
   "source": [
    "f['crs']"
   ]
  },
  {
   "cell_type": "code",
   "execution_count": 35,
   "id": "2acdac66-ed91-4e5c-9e57-a1f8bd824b62",
   "metadata": {},
   "outputs": [
    {
     "data": {
      "text/plain": [
       "dict_keys(['type', 'features'])"
      ]
     },
     "execution_count": 35,
     "metadata": {},
     "output_type": "execute_result"
    }
   ],
   "source": [
    "fires.keys()"
   ]
  },
  {
   "cell_type": "code",
   "execution_count": 36,
   "id": "aca7d99e-3c8d-4ed0-9776-070b86549d42",
   "metadata": {},
   "outputs": [
    {
     "data": {
      "text/plain": [
       "100"
      ]
     },
     "execution_count": 36,
     "metadata": {},
     "output_type": "execute_result"
    }
   ],
   "source": [
    "len(fires['features'])"
   ]
  },
  {
   "cell_type": "code",
   "execution_count": null,
   "id": "bbf7d552-e94f-4d11-ae03-42bbffd16c40",
   "metadata": {},
   "outputs": [],
   "source": []
  }
 ],
 "metadata": {
  "kernelspec": {
   "display_name": "Python 3 (ipykernel)",
   "language": "python",
   "name": "python3"
  },
  "language_info": {
   "codemirror_mode": {
    "name": "ipython",
    "version": 3
   },
   "file_extension": ".py",
   "mimetype": "text/x-python",
   "name": "python",
   "nbconvert_exporter": "python",
   "pygments_lexer": "ipython3",
   "version": "3.9.7"
  }
 },
 "nbformat": 4,
 "nbformat_minor": 5
}
